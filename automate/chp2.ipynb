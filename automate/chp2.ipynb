{
 "cells": [
  {
   "attachments": {},
   "cell_type": "markdown",
   "metadata": {},
   "source": [
    "# Flow Control"
   ]
  },
  {
   "attachments": {},
   "cell_type": "markdown",
   "metadata": {},
   "source": [
    "## else and if statements"
   ]
  },
  {
   "cell_type": "code",
   "execution_count": 1,
   "metadata": {},
   "outputs": [
    {
     "name": "stdout",
     "output_type": "stream",
     "text": [
      "Hello, Mary\n",
      "Access granted\n"
     ]
    }
   ],
   "source": [
    "name = 'Mary'\n",
    "password = 'swordfish'\n",
    "if name == 'Mary': # An if statement's clause will execute if the statement's contition is true. The clause is skipped ifthe condition is false.\n",
    "    print('Hello, Mary')\n",
    "    if password == 'swordfish':\n",
    "        print('Access granted')\n",
    "    else: # The else clause is executed only when the if statement's condition is false.\n",
    "        print('Wrong password.')"
   ]
  },
  {
   "cell_type": "code",
   "execution_count": 3,
   "metadata": {},
   "outputs": [
    {
     "name": "stdout",
     "output_type": "stream",
     "text": [
      "Hello, stranger\n"
     ]
    }
   ],
   "source": [
    "if name == 'Alice':\n",
    "    print('Hi, Alice.')\n",
    "else:\n",
    "    print('Hello, stranger')"
   ]
  },
  {
   "attachments": {},
   "cell_type": "markdown",
   "metadata": {},
   "source": [
    "## elif statements"
   ]
  },
  {
   "cell_type": "code",
   "execution_count": 5,
   "metadata": {},
   "outputs": [
    {
     "name": "stdout",
     "output_type": "stream",
     "text": [
      "Unlike you, Alice is not an undead, immortal vampire.\n"
     ]
    }
   ],
   "source": [
    "name = 'Carol'\n",
    "age = 3000\n",
    "if name == 'Alice':\n",
    "    print('Hi, Alice.')\n",
    "elif age < 12: # The elif statement is an \"else if\" statement that always follwos an if or another elif statement. It provides another condition that is checked only if all the previous conditions were false.\n",
    "    print('You are not Alice, kiddo')          \n",
    "elif age > 2000:\n",
    "    print('Unlike you, Alice is not an undead, immortal vampire.')\n",
    "elif age > 100:\n",
    "    print('You are not Alice, grannie.')"
   ]
  },
  {
   "cell_type": "code",
   "execution_count": 6,
   "metadata": {},
   "outputs": [
    {
     "name": "stdout",
     "output_type": "stream",
     "text": [
      "You are neither Alice nor a little kid.\n"
     ]
    }
   ],
   "source": [
    "name = 'Carol'\n",
    "age = 3000\n",
    "if name == 'Alice':\n",
    "    print('Hi, Alice')\n",
    "elif age < 12:\n",
    "    print('You are not Alice, kiddo')\n",
    "else: # You can have an else statement after the last elif statement\n",
    "    print('You are neither Alice nor a little kid.')"
   ]
  },
  {
   "attachments": {},
   "cell_type": "markdown",
   "metadata": {},
   "source": [
    "## while loop statements"
   ]
  },
  {
   "cell_type": "code",
   "execution_count": 8,
   "metadata": {},
   "outputs": [
    {
     "name": "stdout",
     "output_type": "stream",
     "text": [
      "1\n",
      "2\n",
      "3\n",
      "4\n",
      "5\n"
     ]
    }
   ],
   "source": [
    "spam = 0\n",
    "while spam < 5: # Will execute as long as the while statement's condition is true.\n",
    "    print(spam + 1)\n",
    "    spam = spam + 1"
   ]
  },
  {
   "cell_type": "code",
   "execution_count": 2,
   "metadata": {},
   "outputs": [
    {
     "name": "stdout",
     "output_type": "stream",
     "text": [
      "Please type your name.\n",
      "Please type your name.\n",
      "Please type your name.\n",
      "Thank you!\n"
     ]
    }
   ],
   "source": [
    "name = ''\n",
    "while name != 'Radley':\n",
    "    print('Please type your name.')\n",
    "    name = input()\n",
    "print('Thank you!')"
   ]
  },
  {
   "attachments": {},
   "cell_type": "markdown",
   "metadata": {},
   "source": [
    "## break statements"
   ]
  },
  {
   "cell_type": "code",
   "execution_count": 3,
   "metadata": {},
   "outputs": [
    {
     "name": "stdout",
     "output_type": "stream",
     "text": [
      "Please type your name.\n",
      "Please type your name.\n",
      "Please type your name.\n",
      "Please type your name.\n",
      "Thank you!\n"
     ]
    }
   ],
   "source": [
    "while True:\n",
    "    print('Please type your name.')\n",
    "    name = input()\n",
    "    if name == 'Radley':\n",
    "        break\n",
    "print('Thank you!')"
   ]
  },
  {
   "attachments": {},
   "cell_type": "markdown",
   "metadata": {},
   "source": [
    "## Continue Statements"
   ]
  },
  {
   "cell_type": "code",
   "execution_count": 4,
   "metadata": {},
   "outputs": [
    {
     "name": "stdout",
     "output_type": "stream",
     "text": [
      "Who are you?\n",
      "Who are you?\n",
      "Who are you?\n",
      "Hello Joe, what is the password? (Hint: It is a fish)\n"
     ]
    }
   ],
   "source": [
    "while True:\n",
    "    print('Who are you?')\n",
    "    name = input()\n",
    "    if name != 'Joe':\n",
    "        continue\n",
    "    print('Hello Joe, what is the password? (Hint: It is a fish)')\n",
    "    password = input()\n",
    "    if password == 'swordfish':\n",
    "        break\n",
    "    print('Access granted.')"
   ]
  }
 ],
 "metadata": {
  "kernelspec": {
   "display_name": "Python 3",
   "language": "python",
   "name": "python3"
  },
  "language_info": {
   "codemirror_mode": {
    "name": "ipython",
    "version": 3
   },
   "file_extension": ".py",
   "mimetype": "text/x-python",
   "name": "python",
   "nbconvert_exporter": "python",
   "pygments_lexer": "ipython3",
   "version": "3.9.1"
  },
  "orig_nbformat": 4,
  "vscode": {
   "interpreter": {
    "hash": "aee8b7b246df8f9039afb4144a1f6fd8d2ca17a180786b69acc140d282b71a49"
   }
  }
 },
 "nbformat": 4,
 "nbformat_minor": 2
}
