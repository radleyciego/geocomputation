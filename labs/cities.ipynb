{
 "cells": [
  {
   "cell_type": "code",
   "execution_count": 1,
   "metadata": {},
   "outputs": [],
   "source": [
    "cities = [\n",
    "\t{\n",
    "\t\t\"name\": \"New York City\",\n",
    "\t\t\"country\": \"United States\",\n",
    "\t\t\"population\": 20.14,\n",
    "\t\t\"area\": 1223.59\n",
    "\t},\n",
    "\t{\n",
    "\t\t\"name\": \"Tokyo\",\n",
    "\t\t\"country\": \"Japan\",\n",
    "\t\t\"population\": 37.47,\n",
    "\t\t\"area\": 2194.07,\n",
    "\t},\n",
    "\t{\n",
    "\t\t\"name\": \"Los Angeles\",\n",
    "\t\t\"country\": \"United States\",\n",
    "\t\t\"population\": 13.2,\n",
    "\t\t\"area\": 1299.01,\n",
    "\t},\n",
    "\t{\n",
    "\t\t\"name\": \"Madrid\",\n",
    "\t\t\"country\": \"Spain\",\n",
    "\t\t\"population\": 6.79,\n",
    "\t\t\"area\": 604.31,\n",
    "\t},\n",
    "\t{\n",
    "\t\t\"name\": \"Osaka\",\n",
    "\t\t\"country\": \"Japan\",\n",
    "\t\t\"population\": 19.3,\n",
    "\t\t\"area\": 5107.0,\n",
    "\t},\n",
    "\t{\n",
    "\t\t\"name\": \"London\",\n",
    "\t\t\"country\": \"United Kingdom\",\n",
    "\t\t\"population\": 14.26,\n",
    "\t\t\"area\": 8382.0,\n",
    "\t}\n",
    "]"
   ]
  },
  {
   "cell_type": "code",
   "execution_count": 3,
   "metadata": {},
   "outputs": [
    {
     "name": "stdout",
     "output_type": "stream",
     "text": [
      "[{'name': 'Tokyo', 'country': 'Japan', 'population': 37.47, 'area': 2194.07}, {'name': 'New York City', 'country': 'United States', 'population': 20.14, 'area': 1223.59}, {'name': 'Osaka', 'country': 'Japan', 'population': 19.3, 'area': 5107.0}, {'name': 'London', 'country': 'United Kingdom', 'population': 14.26, 'area': 8382.0}, {'name': 'Los Angeles', 'country': 'United States', 'population': 13.2, 'area': 1299.01}, {'name': 'Madrid', 'country': 'Spain', 'population': 6.79, 'area': 604.31}]\n"
     ]
    }
   ],
   "source": [
    "# sort by population DESCENDING\n",
    "cities = sorted(cities, key=lambda city: -city['population'])\n",
    "print(cities)"
   ]
  },
  {
   "cell_type": "code",
   "execution_count": 4,
   "metadata": {},
   "outputs": [],
   "source": [
    "# sory by country, then by name\n",
    "cites = sorted(cities, key=lambda city: (city['country'], city['name']))"
   ]
  },
  {
   "cell_type": "code",
   "execution_count": null,
   "metadata": {},
   "outputs": [],
   "source": [
    "# sory by population density\n",
    "cities = sorted(cities, key=lambda city: (city['population']/city['area']))"
   ]
  }
 ],
 "metadata": {
  "kernelspec": {
   "display_name": "Python 3",
   "language": "python",
   "name": "python3"
  },
  "language_info": {
   "codemirror_mode": {
    "name": "ipython",
    "version": 3
   },
   "file_extension": ".py",
   "mimetype": "text/x-python",
   "name": "python",
   "nbconvert_exporter": "python",
   "pygments_lexer": "ipython3",
   "version": "3.9.1"
  },
  "orig_nbformat": 4
 },
 "nbformat": 4,
 "nbformat_minor": 2
}
