{
 "cells": [
  {
   "attachments": {},
   "cell_type": "markdown",
   "metadata": {},
   "source": [
    "<br> Radley Ciego </br>\n",
    "<br> GTECH 73100 </br>\n",
    "<br> Assignment 8: Pandas & Geopandas </br>"
   ]
  },
  {
   "cell_type": "code",
   "execution_count": 1,
   "metadata": {},
   "outputs": [],
   "source": [
    "import pandas as pd\n",
    "import geopandas as gpd"
   ]
  },
  {
   "cell_type": "code",
   "execution_count": 2,
   "metadata": {},
   "outputs": [
    {
     "data": {
      "text/html": [
       "<div>\n",
       "<style scoped>\n",
       "    .dataframe tbody tr th:only-of-type {\n",
       "        vertical-align: middle;\n",
       "    }\n",
       "\n",
       "    .dataframe tbody tr th {\n",
       "        vertical-align: top;\n",
       "    }\n",
       "\n",
       "    .dataframe thead th {\n",
       "        text-align: right;\n",
       "    }\n",
       "</style>\n",
       "<table border=\"1\" class=\"dataframe\">\n",
       "  <thead>\n",
       "    <tr style=\"text-align: right;\">\n",
       "      <th></th>\n",
       "      <th>GEO_ID</th>\n",
       "      <th>STATE</th>\n",
       "      <th>COUNTY</th>\n",
       "      <th>NAME</th>\n",
       "      <th>LSAD</th>\n",
       "      <th>CENSUSAREA</th>\n",
       "      <th>geometry</th>\n",
       "    </tr>\n",
       "  </thead>\n",
       "  <tbody>\n",
       "    <tr>\n",
       "      <th>0</th>\n",
       "      <td>0500000US01001</td>\n",
       "      <td>01</td>\n",
       "      <td>001</td>\n",
       "      <td>Autauga</td>\n",
       "      <td>County</td>\n",
       "      <td>594.436</td>\n",
       "      <td>POLYGON ((-86.49677 32.34444, -86.71790 32.402...</td>\n",
       "    </tr>\n",
       "    <tr>\n",
       "      <th>1</th>\n",
       "      <td>0500000US01009</td>\n",
       "      <td>01</td>\n",
       "      <td>009</td>\n",
       "      <td>Blount</td>\n",
       "      <td>County</td>\n",
       "      <td>644.776</td>\n",
       "      <td>POLYGON ((-86.57780 33.76532, -86.75914 33.840...</td>\n",
       "    </tr>\n",
       "    <tr>\n",
       "      <th>2</th>\n",
       "      <td>0500000US01017</td>\n",
       "      <td>01</td>\n",
       "      <td>017</td>\n",
       "      <td>Chambers</td>\n",
       "      <td>County</td>\n",
       "      <td>596.531</td>\n",
       "      <td>POLYGON ((-85.18413 32.87053, -85.12342 32.772...</td>\n",
       "    </tr>\n",
       "    <tr>\n",
       "      <th>3</th>\n",
       "      <td>0500000US01021</td>\n",
       "      <td>01</td>\n",
       "      <td>021</td>\n",
       "      <td>Chilton</td>\n",
       "      <td>County</td>\n",
       "      <td>692.854</td>\n",
       "      <td>POLYGON ((-86.51734 33.02057, -86.51596 32.929...</td>\n",
       "    </tr>\n",
       "    <tr>\n",
       "      <th>4</th>\n",
       "      <td>0500000US01033</td>\n",
       "      <td>01</td>\n",
       "      <td>033</td>\n",
       "      <td>Colbert</td>\n",
       "      <td>County</td>\n",
       "      <td>592.619</td>\n",
       "      <td>POLYGON ((-88.13999 34.58170, -88.13925 34.587...</td>\n",
       "    </tr>\n",
       "    <tr>\n",
       "      <th>5</th>\n",
       "      <td>0500000US01045</td>\n",
       "      <td>01</td>\n",
       "      <td>045</td>\n",
       "      <td>Dale</td>\n",
       "      <td>County</td>\n",
       "      <td>561.150</td>\n",
       "      <td>POLYGON ((-85.41644 31.61947, -85.41743 31.314...</td>\n",
       "    </tr>\n",
       "    <tr>\n",
       "      <th>6</th>\n",
       "      <td>0500000US01051</td>\n",
       "      <td>01</td>\n",
       "      <td>051</td>\n",
       "      <td>Elmore</td>\n",
       "      <td>County</td>\n",
       "      <td>618.485</td>\n",
       "      <td>POLYGON ((-86.33678 32.76747, -86.31948 32.753...</td>\n",
       "    </tr>\n",
       "    <tr>\n",
       "      <th>7</th>\n",
       "      <td>0500000US01065</td>\n",
       "      <td>01</td>\n",
       "      <td>065</td>\n",
       "      <td>Hale</td>\n",
       "      <td>County</td>\n",
       "      <td>643.943</td>\n",
       "      <td>POLYGON ((-87.42120 32.87451, -87.47217 32.830...</td>\n",
       "    </tr>\n",
       "    <tr>\n",
       "      <th>8</th>\n",
       "      <td>0500000US01079</td>\n",
       "      <td>01</td>\n",
       "      <td>079</td>\n",
       "      <td>Lawrence</td>\n",
       "      <td>County</td>\n",
       "      <td>690.678</td>\n",
       "      <td>POLYGON ((-87.10507 34.68604, -87.10591 34.587...</td>\n",
       "    </tr>\n",
       "    <tr>\n",
       "      <th>9</th>\n",
       "      <td>0500000US01083</td>\n",
       "      <td>01</td>\n",
       "      <td>083</td>\n",
       "      <td>Limestone</td>\n",
       "      <td>County</td>\n",
       "      <td>559.936</td>\n",
       "      <td>POLYGON ((-86.83631 34.99176, -86.82066 34.991...</td>\n",
       "    </tr>\n",
       "  </tbody>\n",
       "</table>\n",
       "</div>"
      ],
      "text/plain": [
       "           GEO_ID STATE COUNTY       NAME    LSAD  CENSUSAREA  \\\n",
       "0  0500000US01001    01    001    Autauga  County     594.436   \n",
       "1  0500000US01009    01    009     Blount  County     644.776   \n",
       "2  0500000US01017    01    017   Chambers  County     596.531   \n",
       "3  0500000US01021    01    021    Chilton  County     692.854   \n",
       "4  0500000US01033    01    033    Colbert  County     592.619   \n",
       "5  0500000US01045    01    045       Dale  County     561.150   \n",
       "6  0500000US01051    01    051     Elmore  County     618.485   \n",
       "7  0500000US01065    01    065       Hale  County     643.943   \n",
       "8  0500000US01079    01    079   Lawrence  County     690.678   \n",
       "9  0500000US01083    01    083  Limestone  County     559.936   \n",
       "\n",
       "                                            geometry  \n",
       "0  POLYGON ((-86.49677 32.34444, -86.71790 32.402...  \n",
       "1  POLYGON ((-86.57780 33.76532, -86.75914 33.840...  \n",
       "2  POLYGON ((-85.18413 32.87053, -85.12342 32.772...  \n",
       "3  POLYGON ((-86.51734 33.02057, -86.51596 32.929...  \n",
       "4  POLYGON ((-88.13999 34.58170, -88.13925 34.587...  \n",
       "5  POLYGON ((-85.41644 31.61947, -85.41743 31.314...  \n",
       "6  POLYGON ((-86.33678 32.76747, -86.31948 32.753...  \n",
       "7  POLYGON ((-87.42120 32.87451, -87.47217 32.830...  \n",
       "8  POLYGON ((-87.10507 34.68604, -87.10591 34.587...  \n",
       "9  POLYGON ((-86.83631 34.99176, -86.82066 34.991...  "
      ]
     },
     "execution_count": 2,
     "metadata": {},
     "output_type": "execute_result"
    }
   ],
   "source": [
    "data = \"https://raw.githubusercontent.com/TangoYankee/gtech_731-geocomp-hw/main/assignment-eight/data/gz_2010_us_050_00_20m.geojson\"\n",
    "counties = gpd.read_file(data)\n",
    "counties.head(10)"
   ]
  },
  {
   "cell_type": "code",
   "execution_count": 27,
   "metadata": {},
   "outputs": [],
   "source": [
    "counties.dtypes['STATE'] # check datatype of STATE column for join\n",
    "counties['STATE'] = counties['STATE'].astype(int) # change data type to integer"
   ]
  },
  {
   "cell_type": "code",
   "execution_count": 35,
   "metadata": {},
   "outputs": [
    {
     "data": {
      "text/html": [
       "<div>\n",
       "<style scoped>\n",
       "    .dataframe tbody tr th:only-of-type {\n",
       "        vertical-align: middle;\n",
       "    }\n",
       "\n",
       "    .dataframe tbody tr th {\n",
       "        vertical-align: top;\n",
       "    }\n",
       "\n",
       "    .dataframe thead th {\n",
       "        text-align: right;\n",
       "    }\n",
       "</style>\n",
       "<table border=\"1\" class=\"dataframe\">\n",
       "  <thead>\n",
       "    <tr style=\"text-align: right;\">\n",
       "      <th></th>\n",
       "      <th>STATE</th>\n",
       "      <th>STATE_NAME</th>\n",
       "    </tr>\n",
       "  </thead>\n",
       "  <tbody>\n",
       "    <tr>\n",
       "      <th>0</th>\n",
       "      <td>1</td>\n",
       "      <td>Alabama</td>\n",
       "    </tr>\n",
       "    <tr>\n",
       "      <th>1</th>\n",
       "      <td>2</td>\n",
       "      <td>Alaska</td>\n",
       "    </tr>\n",
       "    <tr>\n",
       "      <th>2</th>\n",
       "      <td>4</td>\n",
       "      <td>Arizona</td>\n",
       "    </tr>\n",
       "    <tr>\n",
       "      <th>3</th>\n",
       "      <td>5</td>\n",
       "      <td>Arkansas</td>\n",
       "    </tr>\n",
       "    <tr>\n",
       "      <th>4</th>\n",
       "      <td>6</td>\n",
       "      <td>California</td>\n",
       "    </tr>\n",
       "  </tbody>\n",
       "</table>\n",
       "</div>"
      ],
      "text/plain": [
       "   STATE  STATE_NAME\n",
       "0      1     Alabama\n",
       "1      2      Alaska\n",
       "2      4     Arizona\n",
       "3      5    Arkansas\n",
       "4      6  California"
      ]
     },
     "execution_count": 35,
     "metadata": {},
     "output_type": "execute_result"
    }
   ],
   "source": [
    "states = pd.read_json('./fipsToState.json', orient='index') \n",
    "states = states.reset_index() # add index as column name\n",
    "states.head(5)"
   ]
  },
  {
   "cell_type": "code",
   "execution_count": 36,
   "metadata": {},
   "outputs": [
    {
     "data": {
      "text/plain": [
       "dtype('int64')"
      ]
     },
     "execution_count": 36,
     "metadata": {},
     "output_type": "execute_result"
    }
   ],
   "source": [
    "states = states.rename(columns={'index':'STATE',0:'STATE_NAME'}) # rename columns\n",
    "states.dtypes['STATE'] # check datatype of STATE column for join"
   ]
  },
  {
   "attachments": {},
   "cell_type": "markdown",
   "metadata": {},
   "source": [
    "## Task 1:\n",
    "Find top n most common county names (n = 3 or 5, for example)"
   ]
  },
  {
   "cell_type": "code",
   "execution_count": 29,
   "metadata": {},
   "outputs": [],
   "source": [
    "def top_5_counties(n):\n",
    "    return counties.groupby(\"NAME\").size().nlargest(n)"
   ]
  },
  {
   "cell_type": "code",
   "execution_count": 30,
   "metadata": {},
   "outputs": [
    {
     "data": {
      "text/plain": [
       "NAME\n",
       "Washington    31\n",
       "Franklin      26\n",
       "Jefferson     26\n",
       "Jackson       24\n",
       "Lincoln       24\n",
       "dtype: int64"
      ]
     },
     "execution_count": 30,
     "metadata": {},
     "output_type": "execute_result"
    }
   ],
   "source": [
    "top_5_counties(5)"
   ]
  },
  {
   "cell_type": "markdown",
   "metadata": {},
   "source": [
    "## Task 2:\n",
    "Derive summary statistics for states, for example, number of counties, counties with max/min area"
   ]
  },
  {
   "cell_type": "code",
   "execution_count": null,
   "metadata": {},
   "outputs": [],
   "source": [
    "lrg_cnties = counties.groupby(\"NAME\").max(\"CENSUSAREA\")\n",
    "lrg_cnties.tail(5)"
   ]
  },
  {
   "cell_type": "code",
   "execution_count": null,
   "metadata": {},
   "outputs": [],
   "source": [
    "smll_cnties = counties.groupby(\"NAME\").min(\"CENSUSAREA\")\n",
    "smll_cnties.head(5)"
   ]
  },
  {
   "attachments": {},
   "cell_type": "markdown",
   "metadata": {},
   "source": [
    "## Task 3:\n",
    "Join fips code to get full names of states (plesae do a real join using merge)"
   ]
  },
  {
   "cell_type": "code",
   "execution_count": 37,
   "metadata": {},
   "outputs": [
    {
     "data": {
      "text/html": [
       "<div>\n",
       "<style scoped>\n",
       "    .dataframe tbody tr th:only-of-type {\n",
       "        vertical-align: middle;\n",
       "    }\n",
       "\n",
       "    .dataframe tbody tr th {\n",
       "        vertical-align: top;\n",
       "    }\n",
       "\n",
       "    .dataframe thead th {\n",
       "        text-align: right;\n",
       "    }\n",
       "</style>\n",
       "<table border=\"1\" class=\"dataframe\">\n",
       "  <thead>\n",
       "    <tr style=\"text-align: right;\">\n",
       "      <th></th>\n",
       "      <th>GEO_ID</th>\n",
       "      <th>STATE</th>\n",
       "      <th>COUNTY</th>\n",
       "      <th>NAME</th>\n",
       "      <th>LSAD</th>\n",
       "      <th>CENSUSAREA</th>\n",
       "      <th>geometry</th>\n",
       "      <th>STATE_NAME</th>\n",
       "    </tr>\n",
       "  </thead>\n",
       "  <tbody>\n",
       "    <tr>\n",
       "      <th>1118</th>\n",
       "      <td>0500000US22121</td>\n",
       "      <td>22</td>\n",
       "      <td>121</td>\n",
       "      <td>West Baton Rouge</td>\n",
       "      <td>Parish</td>\n",
       "      <td>192.394</td>\n",
       "      <td>POLYGON ((-91.41492 30.53517, -91.33087 30.658...</td>\n",
       "      <td>Louisiana</td>\n",
       "    </tr>\n",
       "    <tr>\n",
       "      <th>2386</th>\n",
       "      <td>0500000US47079</td>\n",
       "      <td>47</td>\n",
       "      <td>079</td>\n",
       "      <td>Henry</td>\n",
       "      <td>County</td>\n",
       "      <td>562.096</td>\n",
       "      <td>POLYGON ((-87.99092 36.36013, -88.08767 36.359...</td>\n",
       "      <td>Tennessee</td>\n",
       "    </tr>\n",
       "    <tr>\n",
       "      <th>1278</th>\n",
       "      <td>0500000US28151</td>\n",
       "      <td>28</td>\n",
       "      <td>151</td>\n",
       "      <td>Washington</td>\n",
       "      <td>County</td>\n",
       "      <td>724.741</td>\n",
       "      <td>POLYGON ((-90.71628 33.27003, -90.68032 33.201...</td>\n",
       "      <td>Mississippi</td>\n",
       "    </tr>\n",
       "    <tr>\n",
       "      <th>461</th>\n",
       "      <td>0500000US13019</td>\n",
       "      <td>13</td>\n",
       "      <td>019</td>\n",
       "      <td>Berrien</td>\n",
       "      <td>County</td>\n",
       "      <td>451.897</td>\n",
       "      <td>POLYGON ((-83.19797 31.02540, -83.27373 31.026...</td>\n",
       "      <td>Geogia</td>\n",
       "    </tr>\n",
       "    <tr>\n",
       "      <th>1561</th>\n",
       "      <td>0500000US29049</td>\n",
       "      <td>29</td>\n",
       "      <td>049</td>\n",
       "      <td>Clinton</td>\n",
       "      <td>County</td>\n",
       "      <td>418.956</td>\n",
       "      <td>POLYGON ((-94.60226 39.74719, -94.20596 39.745...</td>\n",
       "      <td>Missouri</td>\n",
       "    </tr>\n",
       "  </tbody>\n",
       "</table>\n",
       "</div>"
      ],
      "text/plain": [
       "              GEO_ID  STATE COUNTY              NAME    LSAD  CENSUSAREA  \\\n",
       "1118  0500000US22121     22    121  West Baton Rouge  Parish     192.394   \n",
       "2386  0500000US47079     47    079             Henry  County     562.096   \n",
       "1278  0500000US28151     28    151        Washington  County     724.741   \n",
       "461   0500000US13019     13    019           Berrien  County     451.897   \n",
       "1561  0500000US29049     29    049           Clinton  County     418.956   \n",
       "\n",
       "                                               geometry   STATE_NAME  \n",
       "1118  POLYGON ((-91.41492 30.53517, -91.33087 30.658...    Louisiana  \n",
       "2386  POLYGON ((-87.99092 36.36013, -88.08767 36.359...    Tennessee  \n",
       "1278  POLYGON ((-90.71628 33.27003, -90.68032 33.201...  Mississippi  \n",
       "461   POLYGON ((-83.19797 31.02540, -83.27373 31.026...       Geogia  \n",
       "1561  POLYGON ((-94.60226 39.74719, -94.20596 39.745...     Missouri  "
      ]
     },
     "execution_count": 37,
     "metadata": {},
     "output_type": "execute_result"
    }
   ],
   "source": [
    "joined_states = counties.merge(states, on='STATE') # merge counties df with states df on state column\n",
    "joined_states.sample(5)"
   ]
  },
  {
   "attachments": {},
   "cell_type": "markdown",
   "metadata": {},
   "source": [
    "## Task 4:\n",
    "Plot maps to show all the counties with the most common names from first task"
   ]
  },
  {
   "cell_type": "code",
   "execution_count": null,
   "metadata": {},
   "outputs": [],
   "source": [
    "top_5 = joined_states.nlargest(5, '')"
   ]
  }
 ],
 "metadata": {
  "kernelspec": {
   "display_name": "Python 3",
   "language": "python",
   "name": "python3"
  },
  "language_info": {
   "codemirror_mode": {
    "name": "ipython",
    "version": 3
   },
   "file_extension": ".py",
   "mimetype": "text/x-python",
   "name": "python",
   "nbconvert_exporter": "python",
   "pygments_lexer": "ipython3",
   "version": "3.9.1"
  },
  "orig_nbformat": 4
 },
 "nbformat": 4,
 "nbformat_minor": 2
}
