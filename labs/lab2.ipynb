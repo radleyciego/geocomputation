{
 "cells": [
  {
   "attachments": {},
   "cell_type": "markdown",
   "metadata": {},
   "source": [
    "<br> Radley Ciego </br> <br> GTECH 73100 </br> <br> Assignment 2 </br>"
   ]
  },
  {
   "attachments": {},
   "cell_type": "markdown",
   "metadata": {},
   "source": [
    "## Task 1: Read in a data file of all counties in the US & make a list of unique county names"
   ]
  },
  {
   "cell_type": "code",
   "execution_count": 2,
   "metadata": {},
   "outputs": [],
   "source": [
    "import json\n",
    "import urllib\n",
    "import requests"
   ]
  },
  {
   "cell_type": "code",
   "execution_count": 3,
   "metadata": {},
   "outputs": [],
   "source": [
    "with open(\"gz_2010_us_050_00_5m.json\", 'r') as f:\n",
    "    data = json.load(f)"
   ]
  },
  {
   "cell_type": "code",
   "execution_count": 4,
   "metadata": {},
   "outputs": [
    {
     "name": "stdout",
     "output_type": "stream",
     "text": [
      "There are 3221 counties in the United States\n",
      "Wade Hampton\n"
     ]
    }
   ],
   "source": [
    "# obtain the number of features\n",
    "print('There are {} counties in the United States'.format(len(data['features'])))\n",
    "\n",
    "print(data['features'][1]['properties']['NAME'])"
   ]
  },
  {
   "cell_type": "code",
   "execution_count": 5,
   "metadata": {},
   "outputs": [
    {
     "name": "stdout",
     "output_type": "stream",
     "text": [
      "First entry is Valdez-Cordova\n"
     ]
    }
   ],
   "source": [
    "url = \"https://eric.clst.org/assets/wiki/uploads/Stuff/gz_2010_us_050_00_5m.json\"\n",
    "\n",
    "with requests.get(url) as response:\n",
    "    data = response.json()\n",
    "    print('First entry is {}'.format(data['features'][0]['properties']['NAME']))"
   ]
  },
  {
   "cell_type": "code",
   "execution_count": 51,
   "metadata": {},
   "outputs": [
    {
     "name": "stdout",
     "output_type": "stream",
     "text": [
      "['Valdez-Cordova', 'Wade Hampton', 'Wrangell', 'Yukon-Koyukuk', 'Cochise', 'Graham', 'La Paz', 'Mohave', 'Santa Cruz', 'Baxter', 'Cleburne', 'Cleveland', 'Columbia', 'Cross', 'Drew', 'Garland', 'Hot Spring', 'Jackson', 'Little River', 'Madison', 'Montgomery', 'Pike', 'Poinsett', 'St. Francis', 'Searcy', 'Sharp', 'Union', 'Hinsdale', 'Kiowa', 'Lincoln', 'Mineral', 'Montrose', 'Phillips', 'Pueblo', 'Rio Grande', 'Sedgwick', 'Washington', 'Tolland', 'Windham', 'Bay', 'Calhoun', 'Clay', 'Escambia', 'Gilchrist', 'Hardee', 'Highlands', 'Lafayette', 'Liberty', 'Manatee', 'Marion', 'Monroe', 'Palm Beach', 'Putnam', 'Taylor', 'Baldwin', 'Berrien', 'Butts', 'Candler', 'Catoosa', 'Chattooga', 'Colquitt', 'Cook', 'Crisp', 'Dooly', 'Echols', 'Evans', 'Franklin', 'Van Buren', 'Woodruff', 'Colusa', 'Glenn', 'Kings', 'Mariposa', 'Modoc', 'Sacramento', 'San Bernardino', 'Santa Barbara', 'Shasta', 'Tulare', 'Adams', 'Alamosa', 'Bent', 'Boulder', 'Broomfield', 'Crowley', 'Elbert', 'Gilpin', 'Autauga', 'Bibb', 'Bullock', 'Chilton', 'Coffee', 'Coosa', 'Dale', 'Etowah', 'Lamar', 'Macon', 'Morgan', 'Randolph', 'Sumter', 'Wilcox', 'Aleutians East', 'Bethel', 'Hoonah-Angoon', 'Kenai Peninsula', 'Ketchikan Gateway', 'Kodiak Island', 'Lake and Peninsula', 'Nome', 'North Slope', 'Northwest Arctic', 'Petersburg', 'Sitka', 'Hardin', 'Jasper', 'Jefferson', 'Johnson', 'Kendall', 'LaSalle', 'Lee', 'McDonough', 'Menard', 'Ogle', 'Piatt', 'Richland', 'Saline', 'Scott', 'Stark', 'Warren', 'Will', 'Benton', 'Boone', 'Cass', 'Clinton', 'Decatur', 'Delaware', 'Fayette', 'Fulton', 'Grant', 'Greene', 'Henry', 'Huntington', 'Jay', 'Kosciusko', 'Lawrence', 'Martin', 'Noble', 'Orange', 'Porter', 'Pulaski', 'Rush', 'Shelby', 'Tippecanoe', 'Tipton', 'Vigo', 'Wayne', 'Wells', 'Adair', 'Appanoose', 'Black Hawk', 'Bremer', 'Buena Vista', 'Carroll', 'Cedar', 'Cherokee', 'Clarke', 'Glascock', 'Glynn', 'Grady', 'Haralson', 'Heard', 'Irwin', 'McDuffie', 'Meriwether', 'Newton', 'Paulding', 'Pickens', 'Polk', 'Schley', 'Terrell', 'Tift', 'Troup', 'Walker', 'Webster', 'White', 'Kalawao', 'Maui', 'Benewah', 'Bonneville', 'Camas', 'Gem', 'Idaho', 'Latah', 'Lemhi', 'Minidoka', 'Teton', 'Bond', 'Brown', 'Champaign', 'Coles', 'Cumberland', 'DeKalb', 'Douglas', 'Effingham', 'Ford', 'Hamilton', 'Wyandotte', 'Anderson', 'Boyle', 'Bullitt', 'Calloway', 'Casey', 'Edmonson', 'Graves', 'Harrison', 'Jessamine', 'Logan', 'McLean', 'Marshall', 'Menifee', 'Metcalfe', 'Nelson', 'Owsley', 'Robertson', 'Spencer', 'Wolfe', 'Allen', 'Bienville', 'Claiborne', 'East Feliciana', 'Iberville', 'La Salle', 'Ouachita', 'Plaquemines', 'St. Bernard', 'St. Charles', 'Tangipahoa', 'Clayton', 'Crawford', 'Emmet', 'Grundy', 'Humboldt', 'Iowa', 'Jones', 'Linn', 'Lucas', 'Mahaska', 'Mitchell', \"O'Brien\", 'Palo Alto', 'Pocahontas', 'Poweshiek', 'Ringgold', 'Story', 'Wapello', 'Worth', 'Wright', 'Chase', 'Clark', 'Cloud', 'Coffey', 'Comanche', 'Dickinson', 'Edwards', 'Elk', 'Finney', 'Gove', 'Greenwood', 'Harper', 'Hodgeman', 'Kearny', 'Kingman', 'Lane', 'Nemaha', 'Osage', 'Pratt', 'Reno', 'Rooks', 'Shawnee', 'Stafford', 'Stevens', 'Thomas', 'Wallace', 'Wilson', 'Gratiot', 'Hillsdale', 'Houghton', 'Ingham', 'Ionia', 'Iosco', 'Isabella', 'Kalamazoo', 'Keweenaw', 'Lake', 'Livingston', 'Mackinac', 'Marquette', 'Mecosta', 'Menominee', 'Midland', 'Montcalm', 'Newaygo', 'Ogemaw', 'Osceola', 'Oscoda', 'Otsego', 'Roscommon', 'Sanilac', 'Shiawassee', 'Washtenaw', 'Carlton', 'Clearwater', 'Dodge', 'Hubbard', 'Isanti', 'Kanabec', 'Lac qui Parle', 'Le Sueur', 'Lyon', 'McLeod', 'Otter Tail', 'Pope', 'Red Lake', 'Rice', 'St. Louis', 'Sibley', 'Steele', 'Todd', 'Wadena', 'Watonwan', 'Wilkin', 'Alcorn', 'Attala', 'Covington', 'Forrest', 'Grenada', 'Itawamba', 'Jefferson Davis', 'West Baton Rouge', 'Winn', 'Aroostook', 'Hancock', 'Sagadahoc', 'Allegany', 'Anne Arundel', 'Charles', 'Dorchester', 'Howard', 'Kent', \"Queen Anne's\", \"St. Mary's\", 'Talbot', 'Berkshire', 'Nantucket', 'Allegan', 'Antrim', 'Barry', 'Benzie', 'Clare', 'Eaton', 'Genesee', 'Judith Basin', 'Musselshell', 'Powder River', 'Sheridan', 'Toole', 'Arthur', 'Blaine', 'Colfax', 'Cuming', 'Dawson', 'Dundy', 'Frontier', 'Garden', 'Gosper', 'Hayes', 'Hooker', 'Lancaster', 'Loup', 'McPherson', 'Merrick', 'Morrill', 'Nuckolls', 'Perkins', 'Pierce', 'Rock', 'Scotts Bluff', 'Sherman', 'Stanton', 'Wheeler', 'York', 'Lander', 'Pershing', 'Carson City', 'Coos', 'Grafton', 'Merrimack', 'Bergen', 'Hudson', 'Ocean', 'Somerset', 'Bernalillo', 'Lauderdale', 'Leake', 'Panola', 'Pontotoc', 'Prentiss', 'Smith', 'Tippah', 'Winston', 'Audrain', 'Caldwell', 'Callaway', 'Carter', 'Christian', 'Cooper', 'Dade', 'Gentry', 'Hickory', 'Iron', 'Knox', 'McDonald', 'Maries', 'Moniteau', 'Oregon', 'Pettis', 'Phelps', 'St. Clair', 'St. Francois', 'Schuyler', 'Shannon', 'Sullivan', 'Texas', 'Beaverhead', 'Fallon', 'Glacier', 'Vance', 'Barnes', 'Billings', 'Burke', 'Cavalier', 'Eddy', 'Foster', 'Griggs', 'Hettinger', 'LaMoure', 'Mercer', 'Renville', 'Towner', 'Traill', 'Auglaize', 'Coshocton', 'Gallia', 'Geauga', 'Guernsey', 'Hocking', 'Huron', 'Licking', 'Medina', 'Miami', 'Morrow', 'Sandusky', 'Seneca', 'Tuscarawas', 'Atoka', 'Creek', 'Custer', 'Dewey', 'De Baca', 'Otero', 'San Miguel', 'Torrance', 'Valencia', 'Cayuga', 'Cortland', 'Lewis', 'Oneida', 'Orleans', 'Rockland', 'Schoharie', 'Tioga', 'Alamance', 'Alexander', 'Alleghany', 'Bladen', 'Cabarrus', 'Caswell', 'Dare', 'Davidson', 'Durham', 'Gates', 'Guilford', 'Hertford', 'Johnston', 'Nash', 'Person', 'Robeson', 'Stanly', 'Greenville', 'Horry', 'Saluda', 'Aurora', 'Beadle', 'Buffalo', 'Codington', 'Edmunds', 'Haakon', 'Hanson', 'Hutchinson', 'Jerauld', 'Kingsbury', 'McCook', 'Miner', 'Minnehaha', 'Potter', 'Sanborn', 'Turner', 'Ziebach', 'Bedford', 'Cannon', 'Gibson', 'Hardeman', 'Henderson', 'Houston', 'McMinn', 'Overton', 'Sequatchie', 'Trousdale', 'Harmon', 'Hughes', 'Kingfisher', 'Latimer', 'McIntosh', 'Mayes', 'Oklahoma', 'Payne', 'Pottawatomie', 'Rogers', 'Stephens', 'Woodward', 'Crook', 'Harney', 'Beaver', 'Berks', 'Blair', 'Bradford', 'Cameron', 'Forest', 'Indiana', 'Lackawanna', 'Lebanon', 'McKean', 'Montour', 'Schuylkill', 'Wyoming', 'Abbeville', 'Bamberg', 'Chester', 'Darlington', 'Fairfield', 'Glasscock', 'Goliad', 'Gray', 'Gregg', 'Hale', 'Hartley', 'Haskell', 'Hays', 'Hockley', 'Hood', 'Hunt', 'Jack', 'Jeff Davis', 'Kerr', 'King', 'Lamb', 'Lampasas', 'Limestone', 'Lubbock', 'Lynn', 'McLennan', 'McMullen', 'Moore', 'Motley', 'Nolan', 'Ochiltree', 'Oldham', 'Palo Pinto', 'Parker', 'Rains', 'Randall', 'Roberts', 'Rockwall', 'Runnels', 'San Jacinto', 'Schleicher', 'Shackelford', 'Sterling', 'Swisher', 'Terry', 'Trinity', 'Upton', 'Van Zandt', 'Wharton', 'Williamson', 'Wise', 'Young', 'Zavala', 'Davis', 'Weakley', 'Andrews', 'Archer', 'Armstrong', 'Atascosa', 'Bailey', 'Baylor', 'Bell', 'Blanco', 'Bowie', 'Brooks', 'Callahan', 'Camp', 'Carson', 'Castro', 'Childress', 'Cochran', 'Coke', 'Collingsworth', 'Coryell', 'Cottle', 'Crosby', 'Dallam', 'Denton', 'Dickens', 'Duval', 'Erath', 'Falls', 'Frio', 'Gillespie', 'Kitsap', 'Mason', 'Skamania', 'Wahkiakum', 'Barbour', 'Gilmer', 'McDowell', 'Monongalia', 'Nicholas', 'Summers', 'Wirt', 'Barron', 'Calumet', 'Chippewa', 'Dane', 'Dunn', 'Eau Claire', 'Fond du Lac', 'Green', 'Green Lake', 'Langlade', 'Marathon', 'Marinette', 'Portage', 'Price', 'Rusk', 'Sawyer', 'Walworth', 'Waushara', 'Campbell', 'Goshen', 'Natrona', 'Platte', 'Uinta', 'Weston', 'Aguas Buenas', 'Aibonito', 'Arroyo', 'Millard', 'Piute', 'Sanpete', 'Bennington', 'Essex', 'Lamoille', 'Albemarle', 'Arlington', 'Brunswick', 'Floyd', 'Goochland', 'Greensville', 'King and Queen', 'Louisa', 'New Kent', 'Nottoway', 'Powhatan', 'Richmond', 'Surry', 'Wythe', 'Colonial Heights', 'Emporia', 'Falls Church', 'Galax', 'Harrisonburg', 'Manassas', 'Martinsville', 'Norton', 'Portsmouth', 'Roanoke', 'Waynesboro', 'Williamsburg', 'Garfield', 'Pima', 'Pinal', 'Yavapai', 'Yuma', 'Arkansas', 'Ashley', 'Bradley', 'Chicot', 'Conway', 'Craighead', 'Crittenden', 'Barceloneta', 'Barranquitas', 'Bayam�n', 'Cabo Rojo', 'Camuy', 'Ciales', 'Coamo', 'Dorado', 'Florida', 'Gurabo', 'Humacao', 'Juncos', 'Las Piedras', 'Luquillo', 'Maunabo', 'Naranjito', 'Patillas', 'Rinc�n', 'Sabana Grande', 'San Lorenzo', 'Santa Isabel', 'Vega Baja', 'Villalba', 'Southeast Fairbanks', 'Yakutat', 'Apache', 'Coconino', 'Gila', 'Greenlee', 'Maricopa', 'Navajo', 'Perry', 'Prairie', 'Sebastian', 'Sevier', 'Stone', 'Gunnison', 'Huerfano', 'Kit Carson', 'La Plata', 'Larimer', 'Las Animas', 'Mesa', 'Moffat', 'Dallas', 'Desha', 'Faulkner', 'Hempstead', 'Independence', 'Izard', 'Lonoke', 'Miller', 'Mississippi', 'Nevada', 'Hartford', 'Litchfield', 'Middlesex', 'New Haven', 'New London', 'New Castle', 'Sussex', 'District of Columbia', 'Alachua', 'Baker', 'Brevard', 'Broward', 'Charlotte', 'Citrus', 'Collier', 'Montezuma', 'Ouray', 'Park', 'Pitkin', 'Prowers', 'Rio Blanco', 'Routt', 'Saguache', 'San Juan', 'Summit', 'Teller', 'Weld', 'Miami-Dade', 'Nassau', 'Okaloosa', 'Okeechobee', 'Pasco', 'Pinellas', 'St. Johns', 'St. Lucie', 'Santa Rosa', 'Sarasota', 'Seminole', 'Suwannee', 'Volusia', 'Wakulla', 'Walton', 'Appling', 'Atkinson', 'Dixie', 'Flagler', 'Gadsden', 'Glades', 'Gulf', 'Hendry', 'Hernando', 'Hillsborough', 'Holmes', 'Indian River', 'Leon', 'Levy', 'Coweta', 'Dougherty', 'Early', 'Emanuel', 'Fannin', 'Forsyth', 'Yell', 'Alameda', 'Alpine', 'Bacon', 'Banks', 'Barrow', 'Bartow', 'Ben Hill', 'Bleckley', 'Brantley', 'Bryan', 'Bulloch', 'Camden', 'Charlton', 'Chatham', 'Chattahoochee', 'Clinch', 'Cobb', 'Marin', 'Mendocino', 'Merced', 'Mono', 'Monterey', 'Napa', 'Placer', 'Plumas', 'Riverside', 'San Benito', 'San Diego', 'San Francisco', 'San Joaquin', 'Amador', 'Butte', 'Calaveras', 'Contra Costa', 'Del Norte', 'El Dorado', 'Fresno', 'Imperial', 'Inyo', 'Kern', 'Lassen', 'Los Angeles', 'Madera', 'Posey', 'Ripley', 'St. Joseph', 'Starke', 'Steuben', 'Switzerland', 'Vanderburgh', 'Alger', 'Alpena', 'Arenac', 'Baraga', 'Branch', 'Charlevoix', 'Daviess', 'Elliott', 'Estill', 'Fleming', 'Harvey', 'Jewell', 'Labette', 'Leavenworth', 'Meade', 'Morris', 'Morton', 'Neosho', 'Ness', 'Osborne', 'Pawnee', 'Vermillion', 'Kalkaska', 'Lapeer', 'Leelanau', 'Lenawee', 'Luce', 'Macomb', 'Manistee', 'Missaukee', 'Cheboygan', 'Delta', 'Gladwin', 'Gallatin', 'Garrard', 'Grayson', 'Greenup', 'Rawlins', 'Republic', 'Riley', 'Russell', 'Seward', 'Sumner', 'Trego', 'Wabaunsee', 'Wichita', 'Woodson', 'Montmorency', 'Muskegon', 'Oakland', 'Oceana', 'Ontonagon', 'Ottawa', 'Presque Isle', 'Saginaw', 'Gogebic', 'Grand Traverse', 'Lewis and Clark', 'McCone', 'Harlan', 'Hart', 'Hickman', 'Hopkins', 'Kenton', 'Knott', 'San Luis Obispo', 'San Mateo', 'Santa Clara', 'Sierra', 'Siskiyou', 'Solano', 'Sonoma', 'Stanislaus', 'Schoolcraft', 'Tuscola', 'Wexford', 'Aitkin', 'Becker', 'Beltrami', 'Big Stone', 'Blue Earth', 'Carver', 'Chisago', 'Cottonwood', 'Wabash', 'Warrick', 'Whitley', 'Allamakee', 'Audubon', 'Buchanan', 'Butler', 'Cerro Gordo', 'Chickasaw', 'Gordon', 'Gwinnett', 'Habersham', 'Hall', 'Larue', 'Laurel', 'Leslie', 'Letcher', 'McCracken', 'Tehama', 'Tuolumne', 'Ventura', 'Yolo', 'Yuba', 'Arapahoe', 'Archuleta', 'Baca', 'Chaffee', 'Cheyenne', 'Crow Wing', 'Dakota', 'Faribault', 'Fillmore', 'Freeborn', 'Goodhue', 'Hennepin', 'Itasca', 'Kandiyohi', 'Kittson', 'Harris', 'Jenkins', 'Lanier', 'Laurens', 'McCreary', 'Magoffin', 'Muhlenberg', 'Sutter', 'Clear Creek', 'Conejos', 'Costilla', 'Denver', 'Dolores', 'Eagle', 'El Paso', 'Fremont', 'Grand', 'Koochiching', 'Lake of the Woods', 'Mahnomen', 'Meeker', 'Mille Lacs', 'Morrison', 'Murray', 'Long', 'Lowndes', 'Lumpkin', 'Ohio', 'Owen', 'Pendleton', 'Powell', 'Rockcastle', 'Rowan', 'Simpson', 'Blount', 'Chambers', 'Choctaw', 'Colbert', 'Conecuh', 'Nicollet', 'Nobles', 'Norman', 'Pennington', 'Pine', 'Pipestone', 'Ramsey', 'Redwood', 'Roseau', 'Sherburne', 'Muscogee', 'Oconee', 'Oglethorpe', 'Peach', 'Quitman', 'Rabun', 'Rockdale', 'Trigg', 'Trimble', 'Woodford', 'Acadia', 'Ascension', 'Assumption', 'Avoyelles', 'Beauregard', 'Crenshaw', 'Cullman', 'Elmore', 'Geneva', 'Stearns', 'Swift', 'Traverse', 'Wabasha', 'Waseca', 'Winona', 'Yellow Medicine', 'Screven', 'Spalding', 'Stewart', 'Taliaferro', 'Tattnall', 'Telfair', 'Bossier', 'Caddo', 'Calcasieu', 'Catahoula', 'Concordia', 'De Soto', 'East Baton Rouge', 'Marengo', 'Mobile', 'Amite', 'Bolivar', 'Coahoma', 'Copiah', 'DeSoto', 'George', 'Toombs', 'Towns', 'Treutlen', 'Twiggs', 'Upson', 'Ware', 'Whitfield', 'East Carroll', 'Evangeline', 'Iberia', 'Talladega', 'Tallapoosa', 'Tuscaloosa', 'Hinds', 'Humphreys', 'Issaquena', 'Kemper', 'Wilkes', 'Wilkinson', 'Hawaii', 'Honolulu', 'Kauai', 'Ada', 'Lafourche', 'Morehouse', 'Natchitoches', 'Aleutians West', 'Anchorage', 'Bristol Bay', 'Denali', 'Dillingham', 'Fairbanks North Star', 'Haines', 'Juneau', 'West Carroll', 'West Feliciana', 'Androscoggin', 'Kennebec', 'Bannock', 'Bear Lake', 'Bingham', 'Boise', 'Bonner', 'Boundary', 'Canyon', 'Caribou', 'Cassia', 'Pointe Coupee', 'Rapides', 'Red River', 'Sabine', 'St. Helena', 'St. James', 'St. John the Baptist', 'St. Landry', 'St. Martin', 'St. Mary', 'Matanuska-Susitna', 'Prince of Wales-Hyder', 'Skagway', 'Iroquois', 'Jersey', 'Jo Daviess', 'Kane', 'Kankakee', 'McHenry', 'Oxford', 'Penobscot', 'Piscataquis', 'Waldo', 'Gooding', 'Jerome', 'Kootenai', 'St. Tammany', 'Tensas', 'Terrebonne', 'Vermilion', 'Vernon', 'Macoupin', 'Massac', 'Moultrie', 'Peoria', 'Baltimore', 'Calvert', 'Caroline', 'Cecil', 'Frederick', 'Nez Perce', 'Owyhee', 'Payette', 'Power', 'Shoshone', 'Twin Falls', 'Valley', 'Des Moines', 'Dubuque', 'Guthrie', 'Ida', 'Keokuk', 'Kossuth', 'Rock Island', 'Sangamon', 'Stephenson', 'Tazewell', 'Whiteside', 'Winnebago', 'Garrett', 'Harford', \"Prince George's\", 'Wicomico', 'Bureau', 'Mills', 'Monona', 'Muscatine', 'Page', 'Plymouth', 'Bartholomew', 'Blackford', 'Dearborn', 'Dubois', 'Elkhart', 'Worcester', 'Barnstable', 'Bristol', 'Dukes', 'De Witt', 'DuPage', 'Edgar', 'Ballard', 'Barren', 'Pottawattamie', 'Sac', 'Sioux', 'Tama', 'Winneshiek', 'Woodbury', 'Atchison', 'Hendricks', 'Jennings', 'LaGrange', 'LaPorte', 'Parke', 'Hampden', 'Hampshire', 'Norfolk', 'Suffolk', 'Alcona', 'Bath', 'Bourbon', 'Boyd', 'Bracken', 'Breathitt', 'Breckinridge', 'Carlisle', 'Barber', 'Chautauqua', 'Cowley', 'Doniphan', 'Ellis', 'Ellsworth', 'Geary', 'Greeley', 'Dent', 'Dunklin', 'Gasconade', 'Holt', 'Howell', 'Charleston', 'Chesterfield', 'Clarendon', 'Colleton', 'Dillon', 'Edgefield', 'Florence', 'Georgetown', 'Hidalgo', 'Lea', 'Los Alamos', 'Luna', 'McKinley', 'Mora', 'Quay', 'Rio Arriba', 'Roosevelt', 'Sandoval', 'Santa Fe', 'Socorro', 'Taos', 'Cheatham', 'Cocke', 'Crockett', 'Dickson', 'Laclede', 'Grimes', 'Guadalupe', 'Hansford', 'Hemphill', 'Hill', 'Albany', 'Bronx', 'Broome', 'Cattaraugus', 'Chemung', 'Chenango', 'Dutchess', 'Erie', 'Dyer', 'Fentress', 'Giles', 'Grainger', 'Hamblen', 'Hawkins', 'Haywood', 'Loudon', 'McNairy', 'Maury', 'Meigs', 'Obion', 'Pickett', 'Hudspeth', 'Irion', 'Jim Hogg', 'Jim Wells', 'Karnes', 'Kaufman', 'Kenedy', 'Kimble', 'Herkimer', 'New York', 'Meagher', 'Missoula', 'Petroleum', 'Pondera', 'Rhea', 'Rutherford', 'New Madrid', 'Nodaway', 'Niagara', 'Onondaga', 'Ontario', 'Oswego', 'Queens', 'Rensselaer', 'St. Lawrence', 'Saratoga', 'Schenectady', 'Rosebud', 'Sanders', 'Silver Bow', 'Stillwater', 'Sweet Grass', 'Treasure', 'Wheatland', 'Unicoi', 'Kay', 'Ozark', 'Pemiscot', 'Ralls', 'Ray', 'Reynolds', 'Tompkins', 'Ulster', 'Westchester', 'Ravalli', 'Wibaux', 'Yellowstone', 'Banner', 'Box Butte', 'Burt', 'Le Flore', 'Love', 'McClain', 'McCurtain', 'Major', 'Muskogee', 'Ste. Genevieve', 'Scotland', 'Stoddard', 'Taney', 'Big Horn', 'Yates', 'Anson', 'Ashe', 'Avery', 'Beaufort', 'Bertie', 'Buncombe', 'Cherry', 'Dawes', 'Deuel', 'Dixon', 'Furnas', 'Gage', 'Nowata', 'Okfuskee', 'Okmulgee', 'Pittsburg', 'Pushmataha', 'Roger Mills', 'Sequoyah', 'Tillman', 'Tulsa', 'Broadwater', 'Carbon', 'Cascade', 'Chouteau', 'Daniels', 'Deer Lodge', 'Fergus', 'Flathead', 'Carteret', 'Catawba', 'Chowan', 'Columbus', 'Craven', 'Currituck', 'Hitchcock', 'Kearney', 'Keith', 'Keya Paha', 'Kimball', 'Nance', 'Otoe', 'Red Willow', 'Wagoner', 'Washita', 'Woods', 'Clackamas', 'Clatsop', 'Curry', 'Golden Valley', 'Granite', 'Watauga', 'Yadkin', 'Davie', 'Duplin', 'Edgecombe', 'Gaston', 'Granville', 'Halifax', 'Harnett', 'Sarpy', 'Saunders', 'Thayer', 'Thurston', 'Churchill', 'Elko', 'Esmeralda', 'Eureka', 'Deschutes', 'Gilliam', 'Hood River', 'Josephine', 'Klamath', 'Yancey', 'Benson', 'Bottineau', 'Bowman', 'Burleigh', 'Dickey', 'Divide', 'Emmons', 'Grand Forks', 'Hoke', 'Hyde', 'Iredell', 'Lenoir', 'Richardson', 'Nye', 'Storey', 'Washoe', 'White Pine', 'Belknap', 'Malheur', 'Multnomah', 'Tillamook', 'Umatilla', 'Kidder', 'McKenzie', 'Mountrail', 'Oliver', 'Pembina', 'Ransom', 'Mecklenburg', 'New Hanover', 'Northampton', 'Onslow', 'Pamlico', 'Pasquotank', 'Pender', 'Perquimans', 'Pitt', 'Cheshire', 'Rockingham', 'Strafford', 'Atlantic', 'Burlington', 'Cape May', 'Wallowa', 'Wasco', 'Yamhill', 'Allegheny', 'Bucks', 'Cambria', 'Rolette', 'Sargent', 'Slope', 'Stutsman', 'Walsh', 'Ward', 'Williams', 'Ashland', 'Ashtabula', 'Sampson', 'Stokes', 'Swain', 'Transylvania', 'Tyrrell', 'Gloucester', 'Hunterdon', 'Monmouth', 'Passaic', 'Salem', 'Centre', 'Clarion', 'Dauphin', 'Athens', 'Belmont', 'Clermont', 'Columbiana', 'Cuyahoga', 'Darke', 'Defiance', 'Hampton', 'Kershaw', 'Lexington', 'McCormick', 'Marlboro', 'Catron', 'Chaves', 'Cibola', 'Leflore', 'Neshoba', 'Noxubee', 'Oktibbeha', 'Pearl River', 'Huntingdon', 'Juniata', 'Lehigh', 'Luzerne', 'Lycoming', 'Mifflin', 'Highland', 'Lorain', 'Mahoning', 'Newberry', 'Orangeburg', 'Spartanburg', 'Rankin', 'Sharkey', 'Sunflower', 'Tallahatchie', 'Tate', 'Tishomingo', 'Tunica', 'Walthall', 'Northumberland', 'Philadelphia', 'Snyder', 'Susquehanna', 'Venango', 'Muskingum', 'Pickaway', 'Preble', 'Ross', 'Scioto', 'Bennett', 'Bon Homme', 'Brookings', 'Brule', 'Charles Mix', 'Corson', 'Fall River', 'Faulk', 'Yalobusha', 'Yazoo', 'Andrew', 'Barton', 'Bates', 'Bollinger', 'Westmoreland', 'Newport', 'Providence', 'Trumbull', 'Van Wert', 'Vinton', 'Wood', 'Alfalfa', 'Beckham', 'Canadian', 'Gregory', 'Hamlin', 'Hand', 'Harding', 'Lyman', 'Mellette', 'Moody', 'Cape Girardeau', 'Chariton', 'Cole', 'Aiken', 'Allendale', 'Barnwell', 'Berkeley', 'Cimarron', 'Coal', 'Cotton', 'Craig', 'Garvin', 'Greer', 'Do�a Ana', 'Spink', 'Stanley', 'Sully', 'Tripp', 'Yankton', 'Bledsoe', 'Walla Walla', 'Whatcom', 'Whitman', 'Yakima', 'Braxton', 'Amherst', 'Appomattox', 'Augusta', 'Bland', 'Botetourt', 'Buckingham', 'Brooke', 'Charles City', 'Culpeper', 'Dickenson', 'Dinwiddie', 'Fairfax', 'Fauquier', 'Fluvanna', 'Hanover', 'Henrico', 'Kinney', 'Kleberg', 'Lavaca', 'Lipscomb', 'Live Oak', 'Llano', 'Loving', 'McCulloch', 'Cabell', 'Doddridge', 'Greenbrier', 'Hardy', 'Isle of Wight', 'James City', 'King George', 'King William', 'Loudoun', 'Lunenburg', 'Mathews', 'Maverick', 'Milam', 'Montague', 'Nacogdoches', 'Navarro', 'Nueces', 'Kanawha', 'Patrick', 'Pittsylvania', 'Prince Edward', 'Prince George', 'Prince William', 'Matagorda', 'Parmer', 'Pecos', 'Presidio', 'Reagan', 'Real', 'Reeves', 'Pleasants', 'Rappahannock', 'Rockbridge', 'Shenandoah', 'Smyth', 'Southampton', 'Spotsylvania', 'Refugio', 'San Augustine', 'San Patricio', 'San Saba', 'Scurry', 'Raleigh', 'Ritchie', 'Roane', 'Tucker', 'Tyler', 'Upshur', 'Alexandria', 'Charlottesville', 'Chesapeake', 'Danville', 'Fredericksburg', 'Hopewell', 'Starr', 'Stonewall', 'Sutton', 'Tarrant', 'Throckmorton', 'Titus', 'Tom Green', 'Travis', 'Uvalde', 'Val Verde', 'Victoria', 'Wetzel', 'Bayfield', 'Lynchburg', 'Manassas Park', 'Newport News', 'Poquoson', 'Radford', 'Staunton', 'Virginia Beach', 'Winchester', 'Asotin', 'Chelan', 'Webb', 'Wilbarger', 'Willacy', 'Winkler', 'Yoakum', 'Zapata', 'Burnett', 'Clallam', 'Cowlitz', 'Ferry', 'Grays Harbor', 'Waller', 'Box Elder', 'Cache', 'Daggett', 'Duchesne', 'Emery', 'Juab', 'Kenosha', 'Kewaunee', 'La Crosse', 'Manitowoc', 'Island', 'Caguas', 'Can�vanas', 'Carolina', 'Cata�o', 'Cayey', 'Ceiba', 'Cidra', 'Comer�o', 'Angelina', 'Aransas', 'Austin', 'Bandera', 'Bastrop', 'Bee', 'Bexar', 'Borden', 'Bosque', 'Milwaukee', 'Oconto', 'Outagamie', 'Ozaukee', 'Pepin', 'Racine', 'St. Croix', 'Corozal', 'Culebra', 'Fajardo', 'Gu�nica', 'Guayama', 'Guayanilla', 'Guaynabo', 'Hatillo', 'Hormigueros', 'Isabela', 'Jayuya', 'Juana D�az', 'Lajas', 'Lares', 'Las Mar�as', 'Lo�za', 'Manat�', 'Maricao', 'Mayag�ez', 'Moca', 'Brazoria', 'Brazos', 'Brewster', 'Burleson', 'Burnet', 'Sauk', 'Shawano', 'Sheboygan', 'Trempealeau', 'Vilas', 'Washburn', 'Waukesha', 'Waupaca', 'Converse', 'Morovis', 'Naguabo', 'Orocovis', 'Pe�uelas', 'Ponce', 'Quebradillas', 'R�o Grande', 'Salinas', 'San Germ�n', 'San Sebasti�n', 'Toa Alta', 'Toa Baja', 'Utuado', 'Vega Alta', 'Vieques', 'Yabucoa', 'Yauco', 'Coleman', 'Collin', 'Colorado', 'Comal', 'Concho', 'Cooke', 'Crane', 'Hot Springs', 'Laramie', 'Niobrara', 'Sublette', 'Sweetwater', 'Washakie', 'Adjuntas', 'Aguada', 'Aguadilla', 'A�asco', 'Arecibo', 'Fountain', 'Anoka', 'Olmsted', 'Antelope', 'Wyandot', 'Davison', 'Briscoe', 'Garza', 'Mingo', 'Door', 'Trujillo Alto', 'Mower', 'Wake', 'Day', 'Culberson', 'Deaf Smith', 'DeWitt', 'Dimmit', 'Donley', 'Eastland', 'Ector', 'Rich', 'Salt Lake', 'Tooele', 'Uintah', 'Utah', 'Clearfield', 'Gonzales', 'Somervell', 'Preston', 'Fisher', 'Foard', 'Fort Bend', 'Freestone', 'Gaines', 'Galveston', 'Kittitas', 'Klickitat', 'Okanogan', 'Wasatch', 'Weber', 'Addison', 'Caledonia', 'Chittenden', 'Grand Isle', 'Pacific', 'Pend Oreille', 'Skagit', 'Snohomish', 'Spokane', 'Rutland', 'Windsor', 'Accomack', 'Amelia']\n"
     ]
    }
   ],
   "source": [
    "unique_counties = []\n",
    "\n",
    "for i in range(len(data['features'])):\n",
    "    name = data['features'][i]['properties']['NAME']\n",
    "    if name not in unique_counties:\n",
    "        unique_counties.append(name)\n",
    "print(unique_counties)"
   ]
  },
  {
   "cell_type": "code",
   "execution_count": null,
   "metadata": {},
   "outputs": [],
   "source": []
  }
 ],
 "metadata": {
  "kernelspec": {
   "display_name": "Python 3",
   "language": "python",
   "name": "python3"
  },
  "language_info": {
   "codemirror_mode": {
    "name": "ipython",
    "version": 3
   },
   "file_extension": ".py",
   "mimetype": "text/x-python",
   "name": "python",
   "nbconvert_exporter": "python",
   "pygments_lexer": "ipython3",
   "version": "3.9.1"
  },
  "orig_nbformat": 4,
  "vscode": {
   "interpreter": {
    "hash": "aee8b7b246df8f9039afb4144a1f6fd8d2ca17a180786b69acc140d282b71a49"
   }
  }
 },
 "nbformat": 4,
 "nbformat_minor": 2
}
