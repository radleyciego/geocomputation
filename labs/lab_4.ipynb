{
 "cells": [
  {
   "attachments": {},
   "cell_type": "markdown",
   "metadata": {},
   "source": [
    "<br> Radley Ciego </br>\n",
    "<br> GTECH 73100 </br>\n",
    "<br> Assignment 4 </br>"
   ]
  },
  {
   "attachments": {},
   "cell_type": "markdown",
   "metadata": {},
   "source": [
    "## Task 1: Add a triangle class\n",
    "Verify the new class works as expected"
   ]
  },
  {
   "cell_type": "code",
   "execution_count": 1,
   "metadata": {},
   "outputs": [],
   "source": [
    "import math as mth\n",
    "import random"
   ]
  },
  {
   "cell_type": "code",
   "execution_count": 1,
   "metadata": {},
   "outputs": [],
   "source": [
    "class Geom():\n",
    "    geomType = 'Generic Geometry Type'\n",
    "\n",
    "# constructor of the class: used to initialize an object\n",
    "def __init__(self):\n",
    "    # check the names and the faker packages for random names\n",
    "     self.name = random.choice(['Bill','Sally','Tamica', 'Josh', 'Lammar','Hussain'])\n",
    "     self.color = random.choice(['BLUE','RED','PURPLE','YELLOW'])\n",
    "\n",
    "# This is a method that all children will inherit\n",
    "def print_name(self):\n",
    "     print('My name is',self.name, 'and my color is',self.color)\n",
    "\n",
    "def area(self):\n",
    "     return None"
   ]
  },
  {
   "attachments": {},
   "cell_type": "markdown",
   "metadata": {},
   "source": [
    "Now create subclasses of the geometry types"
   ]
  },
  {
   "cell_type": "code",
   "execution_count": null,
   "metadata": {},
   "outputs": [],
   "source": [
    "class Triangle(Geom):\n",
    "    def __init__(self, a, b, c):\n",
    "        self.a = a\n",
    "        self.b = b\n",
    "        self.c = c\n",
    "        super().__init__()\n",
    "\n",
    "# area method\n",
    "def area(self):\n",
    "    return self.a + self.b + self.c ** 2"
   ]
  },
  {
   "attachments": {},
   "cell_type": "markdown",
   "metadata": {},
   "source": [
    "Now create an isntance of a triange"
   ]
  },
  {
   "cell_type": "code",
   "execution_count": null,
   "metadata": {},
   "outputs": [],
   "source": [
    "a = 2\n",
    "b = 4\n",
    "c = 8\n",
    "\n"
   ]
  },
  {
   "attachments": {},
   "cell_type": "markdown",
   "metadata": {},
   "source": [
    "## Task 2\n",
    "Reorganize these classes as a package with one or multiple modules. Import them into another Python Notebook or Script file to test them."
   ]
  }
 ],
 "metadata": {
  "kernelspec": {
   "display_name": "Python 3",
   "language": "python",
   "name": "python3"
  },
  "language_info": {
   "codemirror_mode": {
    "name": "ipython",
    "version": 3
   },
   "file_extension": ".py",
   "mimetype": "text/x-python",
   "name": "python",
   "nbconvert_exporter": "python",
   "pygments_lexer": "ipython3",
   "version": "3.9.1"
  },
  "orig_nbformat": 4
 },
 "nbformat": 4,
 "nbformat_minor": 2
}
