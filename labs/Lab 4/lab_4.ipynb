{
 "cells": [
  {
   "attachments": {},
   "cell_type": "markdown",
   "metadata": {},
   "source": [
    "<br> Radley Ciego </br>\n",
    "<br> GTECH 73100 </br>\n",
    "<br> Assignment 4 </br>"
   ]
  },
  {
   "attachments": {},
   "cell_type": "markdown",
   "metadata": {},
   "source": [
    "## Task 1\n",
    "Add a triangle class and write testing code to verify the new class works as expected."
   ]
  },
  {
   "cell_type": "code",
   "execution_count": 2,
   "metadata": {},
   "outputs": [],
   "source": [
    "import math as mth\n",
    "import random"
   ]
  },
  {
   "cell_type": "code",
   "execution_count": 6,
   "metadata": {},
   "outputs": [],
   "source": [
    "class Geom():\n",
    "    geomType = 'Generic Geometry Type'\n",
    "\n",
    "    def __init__(self):\n",
    "        self.name = random.choice(['Sam','Pedro','Carlos','Maria','Khadija'])\n",
    "        self.color = random.choice(['BLUE','RED','ORANGE','GREEN'])\n",
    "\n",
    "    def print_name(self):\n",
    "        print('My name is ',self.name, 'and my color is ',self.color)\n",
    "\n",
    "    def makeString(self):\n",
    "        return f\"Name: {self.name}, Color: {self.color}, Area: {self.area()}\""
   ]
  },
  {
   "cell_type": "code",
   "execution_count": 7,
   "metadata": {},
   "outputs": [],
   "source": [
    "# Create subclasses of the geometry types\n",
    "class Triangle(Geom):\n",
    "    def __init__(self, a, b, c):\n",
    "        self.a = a\n",
    "        self.b = b\n",
    "        self.c = c\n",
    "        super().__init__()\n",
    "    def area(self):\n",
    "        return (self.a + self.b + self.c)** 2"
   ]
  },
  {
   "cell_type": "code",
   "execution_count": 8,
   "metadata": {},
   "outputs": [
    {
     "name": "stdout",
     "output_type": "stream",
     "text": [
      "My area is 196\n"
     ]
    }
   ],
   "source": [
    "a = 2\n",
    "b = 4\n",
    "c = 8\n",
    "\n",
    "my_triangle = Triangle(a,b,c)\n",
    "print('My area is',my_triangle.area())"
   ]
  },
  {
   "attachments": {},
   "cell_type": "markdown",
   "metadata": {},
   "source": [
    "## Task 2\n",
    "Reorganize these classes as a package with one or multiple modules. Import them into another Python Notebook or Script file to test them."
   ]
  },
  {
   "cell_type": "code",
   "execution_count": 3,
   "metadata": {},
   "outputs": [],
   "source": [
    "# Import local python module\n",
    "from directory.geom1 import *"
   ]
  },
  {
   "cell_type": "code",
   "execution_count": 9,
   "metadata": {},
   "outputs": [
    {
     "name": "stdout",
     "output_type": "stream",
     "text": [
      "My area is 20.0\n"
     ]
    }
   ],
   "source": [
    "b = 10\n",
    "h = 4\n",
    "triangle2 = Tri(b, h)\n",
    "print('My area is',triangle2.area())"
   ]
  },
  {
   "cell_type": "code",
   "execution_count": 4,
   "metadata": {},
   "outputs": [
    {
     "name": "stdout",
     "output_type": "stream",
     "text": [
      "Length of the side is 10\n",
      "My name is  Maria and my color is  GREEN\n",
      "My area is  100\n"
     ]
    }
   ],
   "source": [
    "side = 10\n",
    "my_square = Square(side)\n",
    "print('Length of the side is', my_square.side)\n",
    "my_square.print_name()\n",
    "print('My area is ',my_square.area())"
   ]
  }
 ],
 "metadata": {
  "kernelspec": {
   "display_name": "Python 3",
   "language": "python",
   "name": "python3"
  },
  "language_info": {
   "codemirror_mode": {
    "name": "ipython",
    "version": 3
   },
   "file_extension": ".py",
   "mimetype": "text/x-python",
   "name": "python",
   "nbconvert_exporter": "python",
   "pygments_lexer": "ipython3",
   "version": "3.9.1"
  },
  "orig_nbformat": 4,
  "vscode": {
   "interpreter": {
    "hash": "aee8b7b246df8f9039afb4144a1f6fd8d2ca17a180786b69acc140d282b71a49"
   }
  }
 },
 "nbformat": 4,
 "nbformat_minor": 2
}
